{
 "cells": [
  {
   "cell_type": "markdown",
   "id": "20e6e833-c645-4e53-a28c-61d9f9fbe731",
   "metadata": {},
   "source": [
    "# Ryan Cooper Project 2 Part 2 Questions Answered"
   ]
  },
  {
   "cell_type": "markdown",
   "id": "b6a6be06-2844-4ce3-a8ab-e8c735c10ec2",
   "metadata": {},
   "source": [
    "This notebook examines the 2021-2024 Los Angeles Lakers regular season data. Ryan Cooper, 4/8/2025"
   ]
  },
  {
   "cell_type": "markdown",
   "id": "2d85a076-15eb-4819-b17f-86e623103e1f",
   "metadata": {},
   "source": [
    "These first  4 blocks of code are used to scrape the data from the website and transform it into datasets so we can analyze."
   ]
  },
  {
   "cell_type": "code",
   "execution_count": 127,
   "id": "39fd9c69-b8c9-45a6-9e43-1679540d5f8e",
   "metadata": {},
   "outputs": [],
   "source": [
    "years=list(range(2020,2025))"
   ]
  },
  {
   "cell_type": "code",
   "execution_count": 128,
   "id": "5665ee9e-1b5a-41d7-bc6d-ca7e1f8cc0e2",
   "metadata": {},
   "outputs": [],
   "source": [
    "url_start = \"https://www.basketball-reference.com/teams/LAL/2024.html\""
   ]
  },
  {
   "cell_type": "code",
   "execution_count": 129,
   "id": "42af0a1f-603b-4bc9-a98c-e20c3920a85b",
   "metadata": {},
   "outputs": [],
   "source": [
    "import requests  # Import the requests module to fetch web data\n",
    "\n",
    "# Loop through each year in the 'years' list\n",
    "for year in years:\n",
    "    url = url_start.format(year)  # Format the URL with the current year\n",
    "    data = requests.get(url)  # Send a GET request to the URL and get the response data\n",
    "\n",
    "    # Open the file \"2021.html\" (change the year as needed) for reading\n",
    "    with open(\"LakersNBA/2021.html\", encoding=\"utf-8\") as f:\n",
    "        page = f.read()  # Read the content of the HTML file into the 'page' variable\n"
   ]
  },
  {
   "cell_type": "code",
   "execution_count": 130,
   "id": "c0755d3b-99be-485a-a7ee-8b1d6fb8c067",
   "metadata": {},
   "outputs": [],
   "source": [
    "import pandas as pd  # Import pandas for handling data in DataFrame format\n",
    "from bs4 import BeautifulSoup  # Import BeautifulSoup for parsing HTML\n",
    "from io import StringIO  # Import StringIO to handle HTML as a string\n",
    "\n",
    "all_stats = {}  # Create an empty dictionary to store the DataFrames for each year\n",
    "\n",
    "# Loop through each year from 2021 to 2024\n",
    "for year in range(2021, 2025):\n",
    "    filename = f\"LakersNBA/{year}.html\"  # Define the filename based on the year\n",
    "    with open(filename, encoding=\"utf-8\") as f:  # Open the HTML file for the current year\n",
    "        html = f.read()  # Read the contents of the file into the 'html' variable\n",
    "\n",
    "    soup = BeautifulSoup(html, \"html.parser\")  # Parse the HTML content with BeautifulSoup\n",
    "    table = soup.find(\"table\", id=\"per_game_stats\")  # Find the table with id 'per_game_stats'\n",
    "\n",
    "    if table:  # If the table is found in the HTML\n",
    "        df = pd.read_html(StringIO(str(table)))[0]  # Read the HTML table into a DataFrame\n",
    "        df[\"Season\"] = year  # Add a new column for the season (year)\n",
    "        all_stats[year] = df  # Store the DataFrame in the dictionary with the year as the key\n"
   ]
  },
  {
   "cell_type": "markdown",
   "id": "20d3f474-08f4-48b1-95e3-d84715928606",
   "metadata": {},
   "source": [
    "# Do the players on the Los Angeles Lakers have more assists per game the older they are during the 2021-2024 regular season games?"
   ]
  },
  {
   "cell_type": "code",
   "execution_count": 131,
   "id": "719d08b9-083d-4c14-ad92-d2e3f9df6860",
   "metadata": {},
   "outputs": [
    {
     "name": "stdout",
     "output_type": "stream",
     "text": [
      "Correlation between age and assists: 0.43\n"
     ]
    },
    {
     "data": {
      "image/png": "[encoded data removed]",
      "text/plain": [
       "<Figure size 640x480 with 1 Axes>"
      ]
     },
     "metadata": {},
     "output_type": "display_data"
    }
   ],
   "source": [
    "import pandas as pd\n",
    "import numpy as np\n",
    "\n",
    "age_list = []  # List to store ages\n",
    "assists_list = []  # List to store assists\n",
    "\n",
    "# Loop through each year from 2021 to 2024\n",
    "for year in range(2021, 2025):\n",
    "    df = all_stats[year]  # Get the DataFrame for the current year\n",
    "    \n",
    "    df['age'] = pd.to_numeric(df['Age'], errors='coerce')  # Convert age to numeric, handling errors\n",
    "    df['ast'] = pd.to_numeric(df['AST'], errors='coerce')  # Convert assists to numeric, handling errors\n",
    "    \n",
    "    df_clean = df.dropna(subset=['age', 'ast'])  # Drop rows where age or assists are missing\n",
    "    \n",
    "    age_list.extend(df_clean['age'].tolist())  # Add cleaned age data to the list\n",
    "    assists_list.extend(df_clean['ast'].tolist())  # Add cleaned assists data to the list\n",
    "\n",
    "# Create a DataFrame from the age and assists lists\n",
    "data = pd.DataFrame({'age': age_list, 'assists': assists_list})\n",
    "\n",
    "# Calculate the correlation between age and assists\n",
    "correlation = data.corr().loc['age', 'assists']\n",
    "print(f\"Correlation between age and assists: {correlation:.2f}\")\n",
    "\n",
    "plt.scatter(data['age'], data['assists'], alpha=0.5, label=\"Players\")\n",
    "plt.title('Age vs Assists per Game')\n",
    "plt.xlabel('Age')\n",
    "plt.ylabel('Assists per Game')\n",
    "plt.legend()  # Adding legend\n",
    "plt.show()\n"
   ]
  },
  {
   "cell_type": "code",
   "execution_count": 132,
   "id": "108506a8-871a-485c-b6cc-d3c8c4e271ab",
   "metadata": {},
   "outputs": [
    {
     "name": "stdout",
     "output_type": "stream",
     "text": [
      "No, players seem to have consistent assists across all ages from the 2021-2024 regular seasons.\n"
     ]
    }
   ],
   "source": [
    "print(\"No, players seem to have consistent assists across all ages from the 2021-2024 regular seasons.\")"
   ]
  },
  {
   "cell_type": "markdown",
   "id": "26792525-7200-4fd4-b29f-3158df197231",
   "metadata": {},
   "source": [
    "# Do Lakers players with higher PTS (points) per season have  higher DRB's (defensive rebounds)?"
   ]
  },
  {
   "cell_type": "code",
   "execution_count": 133,
   "id": "53fb93b5-e37e-4540-822f-a4e83a8e6df9",
   "metadata": {},
   "outputs": [
    {
     "name": "stdout",
     "output_type": "stream",
     "text": [
      "Correlation between PTS and DRB: 0.99\n"
     ]
    },
    {
     "data": {
      "image/png": "[encoded data removed]",
      "text/plain": [
       "<Figure size 640x480 with 1 Axes>"
      ]
     },
     "metadata": {},
     "output_type": "display_data"
    }
   ],
   "source": [
    "# Lists to store points and defensive rebounds data\n",
    "pts_list = []\n",
    "drb_list = []\n",
    "\n",
    "# Loop through each year (2021-2024)\n",
    "for year in range(2021, 2025):\n",
    "    df = all_stats[year]\n",
    "    \n",
    "    # Convert PTS and DRB columns to numeric values\n",
    "    df['pts'] = pd.to_numeric(df['PTS'], errors='coerce')\n",
    "    df['drb'] = pd.to_numeric(df['DRB'], errors='coerce')\n",
    "    \n",
    "    # Drop rows with missing values in the relevant columns\n",
    "    df_clean = df.dropna(subset=['pts', 'drb'])\n",
    "    \n",
    "    # Append cleaned data to the lists\n",
    "    pts_list.extend(df_clean['pts'].tolist())\n",
    "    drb_list.extend(df_clean['drb'].tolist())\n",
    "\n",
    "# Create a new DataFrame to hold the combined data\n",
    "data = pd.DataFrame({'pts': pts_list, 'drb': drb_list})\n",
    "\n",
    "# Calculate the correlation between PTS and DRB\n",
    "correlation = data.corr().loc['pts', 'drb']\n",
    "print(f\"Correlation between PTS and DRB: {correlation:.2f}\")\n",
    "\n",
    "# Plotting the relationship between PTS and DRB\n",
    "plt.scatter(data['pts'], data['drb'], alpha=0.5, label=\"Players\")\n",
    "plt.title('PTS vs DRB (Defensive Rebounds)')\n",
    "plt.xlabel('Points (PTS)')\n",
    "plt.ylabel('Defensive Rebounds (DRB)')\n",
    "plt.legend()\n",
    "plt.show()"
   ]
  },
  {
   "cell_type": "code",
   "execution_count": 134,
   "id": "427aba3e-d706-4dd8-abf3-34726b237616",
   "metadata": {},
   "outputs": [
    {
     "name": "stdout",
     "output_type": "stream",
     "text": [
      "Yes, it does seem that players with a higher point average also have a higher amount of defensive rebounds.\n"
     ]
    }
   ],
   "source": [
    "print(\"Yes, it does seem that players with a higher point average also have a higher amount of defensive rebounds.\")"
   ]
  },
  {
   "cell_type": "markdown",
   "id": "4257204e-00b8-46fa-accb-07b05b18ba7c",
   "metadata": {},
   "source": [
    "# During the entire 2021-2024 Los Angeles Laker's regular seasons, which season did LeBron James have the highest average stats?"
   ]
  },
  {
   "cell_type": "code",
   "execution_count": 135,
   "id": "63b69822-0ef1-4295-8c12-65ae8a79900b",
   "metadata": {},
   "outputs": [
    {
     "name": "stdout",
     "output_type": "stream",
     "text": [
      "         G    GS    MP    FG   FGA    FG%   3P  3PA    3P%   2P  ...  BLK  \\\n",
      "2021  45.0  45.0  33.4   9.4  18.3  0.513  2.3  6.3  0.365  7.1  ...  0.6   \n",
      "2022  56.0  56.0  37.2  11.4  21.8  0.524  2.9  8.0  0.359  8.6  ...  1.1   \n",
      "2023  55.0  54.0  35.5  11.1  22.2  0.500  2.2  6.9  0.321  8.9  ...  0.6   \n",
      "2024  71.0  71.0  35.3   9.6  17.9  0.540  2.1  5.1  0.410  7.5  ...  0.5   \n",
      "\n",
      "      TOV   PF   PTS  Awards  Season   age  ast   pts  drb  \n",
      "2021  3.7  1.6  25.0     NaN  2021.0  36.0  7.8  25.0  7.0  \n",
      "2022  3.5  2.2  30.3     NaN  2022.0  37.0  6.2  30.3  7.1  \n",
      "2023  3.2  1.6  28.9     NaN  2023.0  38.0  6.8  28.9  7.1  \n",
      "2024  3.5  1.1  25.7     NaN  2024.0  39.0  8.3  25.7  6.4  \n",
      "\n",
      "[4 rows x 31 columns]\n",
      "\n",
      "Year with LeBron James' highest average stats:\n",
      "G         2024.0\n",
      "GS        2024.0\n",
      "MP        2022.0\n",
      "FG        2022.0\n",
      "FGA       2023.0\n",
      "FG%       2024.0\n",
      "3P        2022.0\n",
      "3PA       2022.0\n",
      "3P%       2024.0\n",
      "2P        2023.0\n",
      "2PA       2023.0\n",
      "2P%       2022.0\n",
      "eFG%      2024.0\n",
      "FT        2023.0\n",
      "FTA       2022.0\n",
      "FT%       2023.0\n",
      "ORB       2023.0\n",
      "DRB       2022.0\n",
      "TRB       2023.0\n",
      "AST       2024.0\n",
      "STL       2022.0\n",
      "BLK       2022.0\n",
      "TOV       2021.0\n",
      "PF        2022.0\n",
      "PTS       2022.0\n",
      "Awards       NaN\n",
      "Season    2024.0\n",
      "age       2024.0\n",
      "ast       2024.0\n",
      "pts       2022.0\n",
      "drb       2022.0\n",
      "dtype: float64\n"
     ]
    },
    {
     "name": "stderr",
     "output_type": "stream",
     "text": [
      "C:\\Users\\Ryan\\AppData\\Local\\Temp\\ipykernel_7032\\3615937458.py:30: FutureWarning: The behavior of DataFrame.idxmax with all-NA values, or any-NA and skipna=False, is deprecated. In a future version this will raise ValueError\n",
      "  highest_avg_year = lebron_stats_df.idxmax()\n"
     ]
    }
   ],
   "source": [
    "# Initialize a dictionary to hold LeBron's average stats per year\n",
    "lebron_stats = {}\n",
    "\n",
    "# Loop through each year (2021-2024)\n",
    "for year in range(2021, 2025):\n",
    "    df = all_stats[year]\n",
    "    \n",
    "    # Filter data for LeBron James (assuming the player is listed as 'LeBron James')\n",
    "    lebron_data = df[df['Player'] == 'LeBron James']\n",
    "    \n",
    "    # Drop the columns are non-numeric\n",
    "    lebron_data = lebron_data.drop(columns=['Rk', 'Player', 'Age', 'Pos'])\n",
    "    \n",
    "    # Convert the remaining columns to numeric, forcing errors to NaN\n",
    "    lebron_data = lebron_data.apply(pd.to_numeric, errors='coerce')\n",
    "    \n",
    "    # Calculate the average stats for LeBron in the given year\n",
    "    lebron_avg_stats = lebron_data.mean()\n",
    "    \n",
    "    # Store the average stats in the dictionary\n",
    "    lebron_stats[year] = lebron_avg_stats\n",
    "\n",
    "# Convert the dictionary to a DataFrame for easier comparison\n",
    "lebron_stats_df = pd.DataFrame(lebron_stats).T\n",
    "\n",
    "# Print LeBron's average stats for each year\n",
    "print(lebron_stats_df)\n",
    "\n",
    "# Find the year with the highest average for each stat (e.g., PTS, AST, REB)\n",
    "highest_avg_year = lebron_stats_df.idxmax()\n",
    "\n",
    "# Print the year with LeBron's highest average stats for each category\n",
    "print(\"\\nYear with LeBron James' highest average stats:\")\n",
    "print(highest_avg_year)"
   ]
  },
  {
   "cell_type": "code",
   "execution_count": 136,
   "id": "1a698193-e78f-4c21-b6bd-4e6213b6ebc6",
   "metadata": {},
   "outputs": [
    {
     "name": "stdout",
     "output_type": "stream",
     "text": [
      "After looking at the data, we can see that 2022 had the most amount of highest stats, being 8. 2024 was close behind at 6, 2023 at 5, and 2021 at 1.\n"
     ]
    }
   ],
   "source": [
    "print(\"After looking at the data, we can see that 2022 had the most amount of highest stats, being 8. 2024 was close behind at 6, 2023 at 5, and 2021 at 1.\")"
   ]
  },
  {
   "cell_type": "markdown",
   "id": "cbb84c41-966a-4660-a9ac-08b403119e5b",
   "metadata": {},
   "source": [
    "# When looking at LeBron James 2022 stats, which stat is an outliar compared to LeBron James' teammates during the 2022 regular season?"
   ]
  },
  {
   "cell_type": "code",
   "execution_count": 137,
   "id": "33612677-652e-4f39-a90c-e4c30370d152",
   "metadata": {},
   "outputs": [
    {
     "name": "stdout",
     "output_type": "stream",
     "text": [
      "LeBron James' stat with the highest outlier z-score in 2022 is PTS with a z-score of 0.87 and a standard deviation of 21.66.\n"
     ]
    },
    {
     "name": "stderr",
     "output_type": "stream",
     "text": [
      "C:\\Users\\Ryan\\AppData\\Local\\Temp\\ipykernel_7032\\2709044011.py:22: FutureWarning: Series.__getitem__ treating keys as positions is deprecated. In a future version, integer keys will always be treated as labels (consistent with DataFrame behavior). To access a value by position, use `ser.iloc[pos]`\n",
      "  outlier_z_score = z_scores[outlier_stat_index]\n",
      "C:\\Users\\Ryan\\AppData\\Local\\Temp\\ipykernel_7032\\2709044011.py:23: FutureWarning: Series.__getitem__ treating keys as positions is deprecated. In a future version, integer keys will always be treated as labels (consistent with DataFrame behavior). To access a value by position, use `ser.iloc[pos]`\n",
      "  outlier_std = teammate_stds[outlier_stat_index]\n"
     ]
    }
   ],
   "source": [
    "# Extract LeBron's stats for 2022\n",
    "lebron_2022 = all_stats[2022].loc[all_stats[2022]['Player'] == 'LeBron James']\n",
    "\n",
    "# Extract stats for LeBron's teammates for 2022 (excluding LeBron)\n",
    "teammates_2022 = all_stats[2022][all_stats[2022]['Player'] != 'LeBron James']\n",
    "\n",
    "# Define the stat columns we are comparing\n",
    "stat_columns = ['PTS', 'AST', 'TRB', 'STL', 'BLK', 'FG%', '3P%', 'FT%']\n",
    "\n",
    "# Calculate the mean and standard deviation of each stat for the teammates\n",
    "teammate_means = teammates_2022[stat_columns].mean()\n",
    "teammate_stds = teammates_2022[stat_columns].std()\n",
    "\n",
    "# Calculate the z-scores for LeBron's stats for 2022\n",
    "lebron_stats = lebron_2022[stat_columns].values.flatten()  # LeBron's stats as a 1D array\n",
    "\n",
    "z_scores = (lebron_stats - teammate_means) / teammate_stds\n",
    "\n",
    "# Find the stat with the highest absolute z-score (this is the outlier stat)\n",
    "outlier_stat_index = np.argmax(np.abs(z_scores))\n",
    "outlier_stat = stat_columns[outlier_stat_index]\n",
    "outlier_z_score = z_scores[outlier_stat_index]\n",
    "outlier_std = teammate_stds[outlier_stat_index]\n",
    "\n",
    "# Output the result\n",
    "print(f\"LeBron James' stat with the highest outlier z-score in 2022 is {outlier_stat} with a z-score of {outlier_z_score:.2f} and a standard deviation of {outlier_std:.2f}.\")\n"
   ]
  },
  {
   "cell_type": "code",
   "execution_count": 138,
   "id": "2fca8716-ce46-4813-a499-2c416da0c05d",
   "metadata": {},
   "outputs": [
    {
     "name": "stdout",
     "output_type": "stream",
     "text": [
      "This means that during the 2022 season, LeBron James had an average of 21.66 more points than his teammates per game during the regular season.\n"
     ]
    }
   ],
   "source": [
    "print(\"This means that during the 2022 season, LeBron James had an average of 21.66 more points than his teammates per game during the regular season.\")"
   ]
  }
 ],
 "metadata": {
  "kernelspec": {
   "display_name": "Python 3 (ipykernel)",
   "language": "python",
   "name": "python3"
  },
  "language_info": {
   "codemirror_mode": {
    "name": "ipython",
    "version": 3
   },
   "file_extension": ".py",
   "mimetype": "text/x-python",
   "name": "python",
   "nbconvert_exporter": "python",
   "pygments_lexer": "ipython3",
   "version": "3.13.2"
  }
 },
 "nbformat": 4,
 "nbformat_minor": 5
}
